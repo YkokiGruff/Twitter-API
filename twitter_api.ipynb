{
 "cells": [
  {
   "cell_type": "markdown",
   "id": "85c51cf1-7466-4f9c-8f02-4bbf1c108b1e",
   "metadata": {},
   "source": [
    "API使用手順 \n",
    "⚠️今回使用するtweepyなのですがcondaでは完全なインストールができないため使用しないでください。説明のみこちらで記述します\n",
    "実行する場合は必要なライブラリをインストールした後python test.pyで実行してください！\n",
    "今回はタイムラインの取得と自身の投稿を取得してみたいと思います\n",
    "まず初めにTwitterアカウントとTwitter developerアカウントの作成をしてください\n",
    "https://twitter.com/ja/using-twitter/create-twitter-account\n",
    "https://developer.twitter.com/en/portal\n",
    "どちらも終わりましたら、 developerアカウントでログインし、new projectを立ち上げてください\n",
    "すると自動的にAPI Key and Secret は自動的に生成され、その下にAuthentication Tokensが表示され最後にAccess Token and Secret が表示されます。またTwitter IDはhttps://tweeterid.com/　を利用するとすぐわかります。\n",
    "これらをconfig.pyに記述してください。"
   ]
  },
  {
   "cell_type": "markdown",
   "id": "c05f0b4b-d739-4bde-86a1-e30660633a51",
   "metadata": {},
   "source": [
    "次に必要なライブラリをダウンロードします\n",
    "pip install requests\n",
    "pip install requests-oauthlib\n",
    "pip3 install tweepy\n",
    "tweepyはpip3でないとエラーが発生しました。"
   ]
  },
  {
   "cell_type": "markdown",
   "id": "8e730e89-74c0-4d0b-bcbf-974874877d9d",
   "metadata": {},
   "source": [
    "続いてtest.pyの説明をします\n",
    "まず初めに必要なライブラリをインポートします"
   ]
  },
  {
   "cell_type": "code",
   "execution_count": 1,
   "id": "38ec60fc-a9dc-482c-a951-efa4d74884e4",
   "metadata": {},
   "outputs": [],
   "source": [
    "import json\n",
    "import tweepy\n",
    "import config_main\n",
    "import requests"
   ]
  },
  {
   "cell_type": "code",
   "execution_count": 4,
   "id": "d6354c7d-aaf5-4a00-bbdf-c1e03c596630",
   "metadata": {},
   "outputs": [],
   "source": [
    "import os"
   ]
  },
  {
   "cell_type": "markdown",
   "id": "cb9d29d3-f779-4a50-92d4-db9690a086b0",
   "metadata": {},
   "source": [
    "config.pyに書かれているものを読み込み変数に代入する"
   ]
  },
  {
   "cell_type": "code",
   "execution_count": 2,
   "id": "9768f54d-1812-465f-b003-e09e5b5305e7",
   "metadata": {},
   "outputs": [],
   "source": [
    "API_Key = config_main.API_KEY\n",
    "API_Sec = config_main.API_SECRET_KEY\n",
    "Token = config_main.ACCESS_TOKEN\n",
    "Token_Sec = config_main.ACCESS_TOKEN_SECRET\n",
    "Bearer_Token = config_main.BEARER_TOKEN"
   ]
  },
  {
   "cell_type": "markdown",
   "id": "bcc19e77-0978-48c7-a509-170ca0e303f0",
   "metadata": {},
   "source": [
    "認証処理をします。それぞれのトークンを使って自身のもつアカウントにログインします。"
   ]
  },
  {
   "cell_type": "code",
   "execution_count": 5,
   "id": "f0d5dec7-d193-4215-b9c4-3b52400f177b",
   "metadata": {},
   "outputs": [
    {
     "ename": "AttributeError",
     "evalue": "module 'tweepy' has no attribute 'OAuthHandler'",
     "output_type": "error",
     "traceback": [
      "\u001b[0;31m---------------------------------------------------------------------------\u001b[0m",
      "\u001b[0;31mAttributeError\u001b[0m                            Traceback (most recent call last)",
      "\u001b[0;32m<ipython-input-5-3fd8231acfa5>\u001b[0m in \u001b[0;36m<module>\u001b[0;34m\u001b[0m\n\u001b[0;32m----> 1\u001b[0;31m \u001b[0mauth\u001b[0m \u001b[0;34m=\u001b[0m \u001b[0mtweepy\u001b[0m\u001b[0;34m.\u001b[0m\u001b[0mOAuthHandler\u001b[0m\u001b[0;34m(\u001b[0m\u001b[0mAPI_Key\u001b[0m\u001b[0;34m,\u001b[0m \u001b[0mAPI_Sec\u001b[0m\u001b[0;34m)\u001b[0m\u001b[0;34m\u001b[0m\u001b[0;34m\u001b[0m\u001b[0m\n\u001b[0m\u001b[1;32m      2\u001b[0m \u001b[0mauth\u001b[0m\u001b[0;34m.\u001b[0m\u001b[0mset_access_token\u001b[0m\u001b[0;34m(\u001b[0m\u001b[0mToken\u001b[0m\u001b[0;34m,\u001b[0m \u001b[0mToken_Sec\u001b[0m\u001b[0;34m)\u001b[0m\u001b[0;34m\u001b[0m\u001b[0;34m\u001b[0m\u001b[0m\n\u001b[1;32m      3\u001b[0m \u001b[0mapi\u001b[0m \u001b[0;34m=\u001b[0m \u001b[0mtweepy\u001b[0m\u001b[0;34m.\u001b[0m\u001b[0mAPI\u001b[0m\u001b[0;34m(\u001b[0m\u001b[0mauth\u001b[0m\u001b[0;34m)\u001b[0m\u001b[0;34m\u001b[0m\u001b[0;34m\u001b[0m\u001b[0m\n",
      "\u001b[0;31mAttributeError\u001b[0m: module 'tweepy' has no attribute 'OAuthHandler'"
     ]
    }
   ],
   "source": [
    "auth = tweepy.OAuthHandler(API_Key, API_Sec)\n",
    "auth.set_access_token(Token, Token_Sec)\n",
    "api = tweepy.API(auth)"
   ]
  },
  {
   "cell_type": "markdown",
   "id": "0731164a-5d1f-4214-99a3-2102b9c3fb54",
   "metadata": {},
   "source": [
    "まずタイムラインの取得からします。\n",
    "取得件数は5件に設定しておきます。それぞれのデータを配列で取得できます。"
   ]
  },
  {
   "cell_type": "code",
   "execution_count": null,
   "id": "9b10ba57-c9b6-4cda-a43a-6715d7835de0",
   "metadata": {},
   "outputs": [],
   "source": [
    "tweets = api.home_timeline(count=5)"
   ]
  },
  {
   "cell_type": "markdown",
   "id": "95fb4d0d-8fca-4739-b642-1b91bfecd471",
   "metadata": {},
   "source": [
    "表示方法は取得してきたデータにそれぞれ名前をつけて表示させていきます"
   ]
  },
  {
   "cell_type": "code",
   "execution_count": null,
   "id": "e9144acb-9083-4590-8e7f-eb8a49c10eec",
   "metadata": {},
   "outputs": [],
   "source": [
    "for tweet in tweets:\n",
    "    print('='*20)\n",
    "    print('ツイートID : '   , tweet.id)\n",
    "    print('ツイート時間 : ' , tweet.created_at)\n",
    "    print('ツイート本文 : ', tweet.text)\n",
    "    print('ユーザ名 : ', tweet.user.name) \n",
    "    print('スクリーンネーム : ', tweet.user.screen_name) \n",
    "    print('フォロー数 : ', tweet.user.friends_count) \n",
    "    print('フォロワー数 : ', tweet.user.followers_count) \n",
    "    print('ユーザ概要 : ', tweet.user.description) \n",
    "    print('='*20)"
   ]
  },
  {
   "cell_type": "markdown",
   "id": "75f0abfb-a38e-49b2-8d71-abde5ed6af3d",
   "metadata": {},
   "source": [
    "次に自分の投稿を取得してきます。\n",
    "まずbearer_tokenを使って自身のアカウントにアクセスする権限を得ます。まとめて実行できるよう関数で記述しました。"
   ]
  },
  {
   "cell_type": "code",
   "execution_count": null,
   "id": "efd1f502-23a9-497f-8c55-9e4265ed4f6d",
   "metadata": {},
   "outputs": [],
   "source": [
    "def connect_to_twitter(key):\n",
    "    text = {\"Authorization\": \"Bearer {}\".format(key)}\n",
    "    return text"
   ]
  },
  {
   "cell_type": "markdown",
   "id": "52a21fbf-ac06-4495-a1f2-d7b07d786990",
   "metadata": {},
   "source": [
    "次にurlを取得するのですが今回は最後にresentを加えることで直近の投稿から取得されるようにします。\n",
    "ここでオプションを色々付け加えられるのですが、今回は必要最低限のparamsの設定しか行っておりません。\n",
    "また。jsonでみやすくします。"
   ]
  },
  {
   "cell_type": "code",
   "execution_count": null,
   "id": "978547ea-0524-4e72-9152-c22c6e0ed7e4",
   "metadata": {},
   "outputs": [],
   "source": [
    "def make_request(headers):\n",
    "    url = \"https://api.twitter.com/2/tweets/search/recent\"\n",
    "    params = \"query=from:learningnao\"\n",
    "    return requests.request(\"GET\", url, params=params, headers=headers).json()"
   ]
  },
  {
   "cell_type": "markdown",
   "id": "f1e9d32e-84ac-4b4a-a557-b8ac0aa2a0fb",
   "metadata": {},
   "source": [
    "最後に実行です。"
   ]
  },
  {
   "cell_type": "code",
   "execution_count": null,
   "id": "bab824bb-c135-4245-b8af-c0e669d76d78",
   "metadata": {},
   "outputs": [],
   "source": [
    "headers = connect_to_twitter(Bearer_Token)\n",
    "response = make_request(headers)\n",
    "print(response)"
   ]
  }
 ],
 "metadata": {
  "kernelspec": {
   "display_name": "Python 3",
   "language": "python",
   "name": "python3"
  },
  "language_info": {
   "codemirror_mode": {
    "name": "ipython",
    "version": 3
   },
   "file_extension": ".py",
   "mimetype": "text/x-python",
   "name": "python",
   "nbconvert_exporter": "python",
   "pygments_lexer": "ipython3",
   "version": "3.8.8"
  }
 },
 "nbformat": 4,
 "nbformat_minor": 5
}
