{
 "cells": [
  {
   "cell_type": "markdown",
   "id": "b57fb572-4711-45ac-849e-ef9844c4b6e9",
   "metadata": {},
   "source": [
    "API使用手順\n",
    "今回はタイムラインを取得してみる"
   ]
  },
  {
   "cell_type": "markdown",
   "id": "422f7653-5fc3-4fee-a69a-e8f7c1a54281",
   "metadata": {},
   "source": [
    "利用申請をする\n",
    "https://developer.twitter.com/en/portal/\n",
    "これにログインし、自身のTwitterアカウント（デベロッパーアカウント）を作成する。\n",
    "new projectを立ち上げるとAPI Key and Secret は自動的に生成されるその下にAuthentication Tokensが表示され最後にAccess Token and Secret が表示される後に確認することができないのでこの時点でメモしておくこと必須である。これらをconfig.pyに記述してください。"
   ]
  },
  {
   "cell_type": "markdown",
   "id": "d923a9d4-dc48-43f8-9a3e-967c9303382c",
   "metadata": {},
   "source": [
    "パッケージのインストール"
   ]
  },
  {
   "cell_type": "code",
   "execution_count": null,
   "id": "1c71a9e4-bd02-4702-9275-23ecb05c44c4",
   "metadata": {},
   "outputs": [],
   "source": [
    "pip install requests\n",
    "pip install requests-oauthlib"
   ]
  },
  {
   "cell_type": "markdown",
   "id": "8e730e89-74c0-4d0b-bcbf-974874877d9d",
   "metadata": {},
   "source": [
    "標準のjsonモジュールとconfig.pyの読み込み"
   ]
  },
  {
   "cell_type": "code",
   "execution_count": null,
   "id": "38ec60fc-a9dc-482c-a951-efa4d74884e4",
   "metadata": {},
   "outputs": [],
   "source": [
    "import json, config"
   ]
  },
  {
   "cell_type": "markdown",
   "id": "c3d14217-b16c-414b-a529-ab697cde58af",
   "metadata": {},
   "source": [
    "OAuthのライブラリの読み込み"
   ]
  },
  {
   "cell_type": "code",
   "execution_count": null,
   "id": "6424e305-daa5-43b6-a5bb-79210e146b81",
   "metadata": {},
   "outputs": [],
   "source": [
    "from requests_oauthlib import OAuth1Session"
   ]
  },
  {
   "cell_type": "markdown",
   "id": "cb9d29d3-f779-4a50-92d4-db9690a086b0",
   "metadata": {},
   "source": [
    "config.pyに書かれているものを読み込み変数に代入する"
   ]
  },
  {
   "cell_type": "code",
   "execution_count": null,
   "id": "9768f54d-1812-465f-b003-e09e5b5305e7",
   "metadata": {},
   "outputs": [],
   "source": [
    "AK = config.API_KEY\n",
    "AS = config.API_SEACRET_KEY\n",
    "AT = config.ACCESS_TOKEN\n",
    "ATS = config.ACCESS_TOKEN_SECRET"
   ]
  },
  {
   "cell_type": "markdown",
   "id": "bcc19e77-0978-48c7-a509-170ca0e303f0",
   "metadata": {},
   "source": [
    "認証処理"
   ]
  },
  {
   "cell_type": "code",
   "execution_count": null,
   "id": "f0d5dec7-d193-4215-b9c4-3b52400f177b",
   "metadata": {},
   "outputs": [],
   "source": [
    "twitter = OAuth1Session(AK, AS, AT, ATS)"
   ]
  },
  {
   "cell_type": "markdown",
   "id": "0731164a-5d1f-4214-99a3-2102b9c3fb54",
   "metadata": {},
   "source": [
    "タイムライン取得のURLと取得数を設定する"
   ]
  },
  {
   "cell_type": "code",
   "execution_count": null,
   "id": "9b10ba57-c9b6-4cda-a43a-6715d7835de0",
   "metadata": {},
   "outputs": [],
   "source": [
    "MY_ID = config.TWITTER_ID\n",
    "url = \"https://api.twitter.com/2/users/{MY_ID}/tweets\"\n",
    "params ={'count' : 5}\n",
    "res = twitter.get(url, params = params)"
   ]
  },
  {
   "cell_type": "markdown",
   "id": "95fb4d0d-8fca-4739-b642-1b91bfecd471",
   "metadata": {},
   "source": [
    "ここで上手く通信ができた時とできなかった時で分岐し、for文を回す"
   ]
  },
  {
   "cell_type": "code",
   "execution_count": null,
   "id": "e9144acb-9083-4590-8e7f-eb8a49c10eec",
   "metadata": {},
   "outputs": [],
   "source": [
    "if res.status_code == 200: #正常通信出来た場合\n",
    "    timelines = json.loads(res.text) #レスポンスからタイムラインリストを取得\n",
    "    for line in timelines: #タイムラインリストをループ処理\n",
    "        print(line['user']['name']+'::'+line['text'])\n",
    "        print(line['created_at'])\n",
    "        print('-------------------------------------')\n",
    "else: #正常通信出来なかった場合\n",
    "    print(\"Failed: %d\" % res.status_code)"
   ]
  }
 ],
 "metadata": {
  "kernelspec": {
   "display_name": "Python 3",
   "language": "python",
   "name": "python3"
  },
  "language_info": {
   "codemirror_mode": {
    "name": "ipython",
    "version": 3
   },
   "file_extension": ".py",
   "mimetype": "text/x-python",
   "name": "python",
   "nbconvert_exporter": "python",
   "pygments_lexer": "ipython3",
   "version": "3.8.8"
  }
 },
 "nbformat": 4,
 "nbformat_minor": 5
}
